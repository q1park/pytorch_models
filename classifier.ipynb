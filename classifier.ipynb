{
 "cells": [
  {
   "cell_type": "markdown",
   "metadata": {},
   "source": [
    "# Categorical NN Classifier"
   ]
  },
  {
   "cell_type": "code",
   "execution_count": 1,
   "metadata": {},
   "outputs": [],
   "source": [
    "%matplotlib inline\n",
    "\n",
    "import os\n",
    "import subprocess\n",
    "import timeit\n",
    "import numpy as np\n",
    "import scipy as sp\n",
    "import sympy as sy\n",
    "import pandas as pd\n",
    "import itertools\n",
    "import matplotlib.pyplot as plt\n",
    "\n",
    "# functions for sparse matrices\n",
    "from functools import reduce\n",
    "from scipy.sparse import csc_matrix, dok_matrix, kron\n",
    "#from sympy import radsimp, sqrt, init_printing\n",
    "\n",
    "# functions to play animations\n",
    "from IPython.core.interactiveshell import InteractiveShell\n",
    "InteractiveShell.ast_node_interactivity = \"all\"\n",
    "from JSAnimation.IPython_display import display_animation\n",
    "from matplotlib import animation\n",
    "from IPython.display import display"
   ]
  },
  {
   "cell_type": "markdown",
   "metadata": {},
   "source": [
    "## Define Functions"
   ]
  },
  {
   "cell_type": "code",
   "execution_count": 20,
   "metadata": {},
   "outputs": [],
   "source": [
    "# Activation (sigmoid) function\n",
    "def identity(X):\n",
    "    return X\n",
    "\n",
    "def sigmoid(X):\n",
    "    return 1 / (1 + np.exp(-np.array(X)))\n",
    "\n",
    "def Dsigmoid(X):\n",
    "    return np.array(X) * (1 - np.array(X))\n",
    "\n",
    "def relu(X):\n",
    "    return np.array([val if val>0 else 0.001 for val in X])\n",
    "    \n",
    "def Drelu(X):\n",
    "    return np.array([1 if val>0 else 0 for val in X])\n",
    "\n",
    "def softmax(X):\n",
    "    exps = np.exp(X - np.max(X))\n",
    "    return exps / np.sum(exps)\n",
    "\n",
    "def Dsoftmax(X):\n",
    "    derivatives = []\n",
    "    Vsoft = softmax(X)\n",
    "    \n",
    "    for j in range(len(X)):\n",
    "        derivatives.append([-Vsoft[j]*(1 - Vsoft[i]) if i==j else -Vsoft[i]*Vsoft[j] for i in range(len(X))])\n",
    "        \n",
    "    return np.asarray(derivatives)\n",
    "\n",
    "def error_formula(y, output):\n",
    "    return - y*np.log(output) - (1 - y) * np.log(1-output)\n",
    "\n",
    "def error_term_formula(x, y, output):\n",
    "    return (y - output)*Dsigmoid(x)"
   ]
  },
  {
   "cell_type": "markdown",
   "metadata": {},
   "source": [
    "## Load Data\n",
    "\n",
    "The dataset originally came from here: http://www.ats.ucla.edu/"
   ]
  },
  {
   "cell_type": "code",
   "execution_count": 3,
   "metadata": {},
   "outputs": [
    {
     "data": {
      "text/html": [
       "<div>\n",
       "<style scoped>\n",
       "    .dataframe tbody tr th:only-of-type {\n",
       "        vertical-align: middle;\n",
       "    }\n",
       "\n",
       "    .dataframe tbody tr th {\n",
       "        vertical-align: top;\n",
       "    }\n",
       "\n",
       "    .dataframe thead th {\n",
       "        text-align: right;\n",
       "    }\n",
       "</style>\n",
       "<table border=\"1\" class=\"dataframe\">\n",
       "  <thead>\n",
       "    <tr style=\"text-align: right;\">\n",
       "      <th></th>\n",
       "      <th>admit</th>\n",
       "      <th>gre</th>\n",
       "      <th>gpa</th>\n",
       "      <th>rank</th>\n",
       "    </tr>\n",
       "  </thead>\n",
       "  <tbody>\n",
       "    <tr>\n",
       "      <th>0</th>\n",
       "      <td>0</td>\n",
       "      <td>380</td>\n",
       "      <td>3.61</td>\n",
       "      <td>3</td>\n",
       "    </tr>\n",
       "    <tr>\n",
       "      <th>1</th>\n",
       "      <td>1</td>\n",
       "      <td>660</td>\n",
       "      <td>3.67</td>\n",
       "      <td>3</td>\n",
       "    </tr>\n",
       "    <tr>\n",
       "      <th>2</th>\n",
       "      <td>1</td>\n",
       "      <td>800</td>\n",
       "      <td>4.00</td>\n",
       "      <td>1</td>\n",
       "    </tr>\n",
       "  </tbody>\n",
       "</table>\n",
       "</div>"
      ],
      "text/plain": [
       "   admit  gre   gpa  rank\n",
       "0      0  380  3.61     3\n",
       "1      1  660  3.67     3\n",
       "2      1  800  4.00     1"
      ]
     },
     "execution_count": 3,
     "metadata": {},
     "output_type": "execute_result"
    },
    {
     "data": {
      "image/png": "[encoded data removed]",
      "text/plain": [
       "<Figure size 432x288 with 1 Axes>"
      ]
     },
     "metadata": {},
     "output_type": "display_data"
    }
   ],
   "source": [
    "# Reading the csv file into a pandas DataFrame\n",
    "data = pd.read_csv('student_data.csv')\n",
    "data[:3]\n",
    "\n",
    "# Function to help us plot\n",
    "def plot_points(data):\n",
    "    X = np.array(data[[\"gre\",\"gpa\"]])\n",
    "    y = np.array(data[\"admit\"])\n",
    "    admitted = X[np.argwhere(y==1)]\n",
    "    rejected = X[np.argwhere(y==0)]\n",
    "    plt.scatter([s[0][0] for s in rejected], [s[0][1] for s in rejected], s = 25, color = 'red', edgecolor = 'k')\n",
    "    plt.scatter([s[0][0] for s in admitted], [s[0][1] for s in admitted], s = 25, color = 'cyan', edgecolor = 'k')\n",
    "    plt.xlabel('Test (GRE)')\n",
    "    plt.ylabel('Grades (GPA)')\n",
    "    \n",
    "# Plotting the points\n",
    "plot_points(data)\n",
    "plt.show()"
   ]
  },
  {
   "cell_type": "code",
   "execution_count": 4,
   "metadata": {},
   "outputs": [
    {
     "data": {
      "text/plain": [
       "Text(0.5, 1.0, 'Rank 1')"
      ]
     },
     "execution_count": 4,
     "metadata": {},
     "output_type": "execute_result"
    },
    {
     "data": {
      "image/png": "[encoded data removed]",
      "text/plain": [
       "<Figure size 432x288 with 1 Axes>"
      ]
     },
     "metadata": {},
     "output_type": "display_data"
    }
   ],
   "source": [
    "# Separating the ranks\n",
    "data_rank1 = data[data[\"rank\"]==1]\n",
    "data_rank2 = data[data[\"rank\"]==2]\n",
    "data_rank3 = data[data[\"rank\"]==3]\n",
    "data_rank4 = data[data[\"rank\"]==4]\n",
    "\n",
    "# Plotting the graphs\n",
    "plot_points(data_rank1)\n",
    "plt.title(\"Rank 1\")\n",
    "plt.show()\n",
    "#plot_points(data_rank2)\n",
    "#plt.title(\"Rank 2\")\n",
    "#plt.show()"
   ]
  },
  {
   "cell_type": "markdown",
   "metadata": {},
   "source": [
    "## Data Plumbing"
   ]
  },
  {
   "cell_type": "code",
   "execution_count": 5,
   "metadata": {},
   "outputs": [
    {
     "data": {
      "text/html": [
       "<div>\n",
       "<style scoped>\n",
       "    .dataframe tbody tr th:only-of-type {\n",
       "        vertical-align: middle;\n",
       "    }\n",
       "\n",
       "    .dataframe tbody tr th {\n",
       "        vertical-align: top;\n",
       "    }\n",
       "\n",
       "    .dataframe thead th {\n",
       "        text-align: right;\n",
       "    }\n",
       "</style>\n",
       "<table border=\"1\" class=\"dataframe\">\n",
       "  <thead>\n",
       "    <tr style=\"text-align: right;\">\n",
       "      <th></th>\n",
       "      <th>admit</th>\n",
       "      <th>gre</th>\n",
       "      <th>gpa</th>\n",
       "      <th>rank_1</th>\n",
       "      <th>rank_2</th>\n",
       "      <th>rank_3</th>\n",
       "      <th>rank_4</th>\n",
       "    </tr>\n",
       "  </thead>\n",
       "  <tbody>\n",
       "    <tr>\n",
       "      <th>0</th>\n",
       "      <td>0</td>\n",
       "      <td>0.475</td>\n",
       "      <td>0.9025</td>\n",
       "      <td>0</td>\n",
       "      <td>0</td>\n",
       "      <td>1</td>\n",
       "      <td>0</td>\n",
       "    </tr>\n",
       "    <tr>\n",
       "      <th>1</th>\n",
       "      <td>1</td>\n",
       "      <td>0.825</td>\n",
       "      <td>0.9175</td>\n",
       "      <td>0</td>\n",
       "      <td>0</td>\n",
       "      <td>1</td>\n",
       "      <td>0</td>\n",
       "    </tr>\n",
       "    <tr>\n",
       "      <th>2</th>\n",
       "      <td>1</td>\n",
       "      <td>1.000</td>\n",
       "      <td>1.0000</td>\n",
       "      <td>1</td>\n",
       "      <td>0</td>\n",
       "      <td>0</td>\n",
       "      <td>0</td>\n",
       "    </tr>\n",
       "  </tbody>\n",
       "</table>\n",
       "</div>"
      ],
      "text/plain": [
       "   admit    gre     gpa  rank_1  rank_2  rank_3  rank_4\n",
       "0      0  0.475  0.9025       0       0       1       0\n",
       "1      1  0.825  0.9175       0       0       1       0\n",
       "2      1  1.000  1.0000       1       0       0       0"
      ]
     },
     "execution_count": 5,
     "metadata": {},
     "output_type": "execute_result"
    }
   ],
   "source": [
    "# One hot encode rank\n",
    "one_hot_data = pd.concat([data, pd.get_dummies(data['rank'], prefix='rank')], axis=1)\n",
    "one_hot_data = one_hot_data.drop('rank', axis=1)\n",
    "\n",
    "# Create vector of scaled data\n",
    "processed_data = one_hot_data[:]\n",
    "processed_data.loc[:,'gpa'] *= np.divide(1, 4.)\n",
    "processed_data.loc[:,'gre'] *= np.divide(1, 800.)\n",
    "\n",
    "processed_data[:3]"
   ]
  },
  {
   "cell_type": "markdown",
   "metadata": {},
   "source": [
    "Split the data into a Training and a Testing set. The size of the testing set will be 10% of the total data."
   ]
  },
  {
   "cell_type": "code",
   "execution_count": 6,
   "metadata": {},
   "outputs": [
    {
     "name": "stdout",
     "output_type": "stream",
     "text": [
      "Number of training samples is 360\n",
      "Number of testing samples is 40\n",
      "     admit    gre     gpa  rank_1  rank_2  rank_3  rank_4\n",
      "132      0  0.725  0.8500       0       1       0       0\n",
      "26       1  0.775  0.9025       1       0       0       0\n",
      "15       0  0.600  0.8600       0       0       1       0\n",
      "    admit   gre     gpa  rank_1  rank_2  rank_3  rank_4\n",
      "3       1  0.80  0.7975       0       0       0       1\n",
      "29      0  0.65  0.8225       1       0       0       0\n",
      "35      0  0.50  0.7625       0       1       0       0\n"
     ]
    }
   ],
   "source": [
    "sample = np.random.choice(processed_data.index, size=int(len(processed_data)*0.9), replace=False)\n",
    "train_data, test_data = processed_data.iloc[sample], processed_data.drop(sample)\n",
    "\n",
    "print(\"Number of training samples is\", len(train_data))\n",
    "print(\"Number of testing samples is\", len(test_data))\n",
    "print(train_data[:3])\n",
    "print(test_data[:3])"
   ]
  },
  {
   "cell_type": "markdown",
   "metadata": {},
   "source": [
    "Split the data into features (X) and targets (y).\n",
    "\n",
    "(admitX, admitY) Uses gre, gpa, and rank to predict admission\n",
    "\n",
    "(rankX, rankY) Uses admission, gre, amd gpa to predict rank"
   ]
  },
  {
   "cell_type": "code",
   "execution_count": 7,
   "metadata": {
    "scrolled": true
   },
   "outputs": [
    {
     "data": {
      "text/plain": [
       "array([[0.725 , 0.85  , 0.    , 1.    , 0.    , 0.    ],\n",
       "       [0.775 , 0.9025, 1.    , 0.    , 0.    , 0.    ],\n",
       "       [0.6   , 0.86  , 0.    , 0.    , 1.    , 0.    ]])"
      ]
     },
     "execution_count": 7,
     "metadata": {},
     "output_type": "execute_result"
    },
    {
     "data": {
      "text/plain": [
       "array([0, 1, 0])"
      ]
     },
     "execution_count": 7,
     "metadata": {},
     "output_type": "execute_result"
    }
   ],
   "source": [
    "admitX = train_data.drop('admit', axis=1).values\n",
    "admitY = train_data['admit'].values\n",
    "admitX_test = test_data.drop('admit', axis=1).values\n",
    "admitY_test = test_data['admit'].values\n",
    "\n",
    "admitX[:3]\n",
    "admitY[:3]"
   ]
  },
  {
   "cell_type": "code",
   "execution_count": 8,
   "metadata": {},
   "outputs": [
    {
     "data": {
      "text/plain": [
       "array([[0.    , 0.725 , 0.85  ],\n",
       "       [1.    , 0.775 , 0.9025],\n",
       "       [0.    , 0.6   , 0.86  ]])"
      ]
     },
     "execution_count": 8,
     "metadata": {},
     "output_type": "execute_result"
    },
    {
     "data": {
      "text/plain": [
       "array([[0, 1, 0, 0],\n",
       "       [1, 0, 0, 0],\n",
       "       [0, 0, 1, 0]], dtype=uint8)"
      ]
     },
     "execution_count": 8,
     "metadata": {},
     "output_type": "execute_result"
    }
   ],
   "source": [
    "rankX = train_data.drop(train_data.columns[[3,4,5,6]], axis=1).values\n",
    "rankY = train_data.drop(train_data.columns[[0,1,2]], axis=1).values\n",
    "rankX_test = test_data.drop(train_data.columns[[2,3]], axis=1).values\n",
    "rankY_test = test_data.drop(train_data.columns[[0,1]], axis=1).values\n",
    "\n",
    "rankX[:3]\n",
    "rankY[:3]"
   ]
  },
  {
   "cell_type": "markdown",
   "metadata": {},
   "source": [
    "# Construct Network with N layers and M nodes per layer"
   ]
  },
  {
   "cell_type": "code",
   "execution_count": 9,
   "metadata": {},
   "outputs": [],
   "source": [
    "def initialize_weights(numnodes):\n",
    "    allweights = []\n",
    "    \n",
    "    for i in range(len(numnodes)-1):\n",
    "        iterbias = np.zeros( ( numnodes[i+1] , 1 ) )\n",
    "        iterweight = np.random.normal(scale=1 / numnodes[i]**.5, size=(numnodes[i+1], numnodes[i]))\n",
    "        \n",
    "        allweights.append( np.concatenate((iterweight, iterbias), axis=1) )\n",
    "        \n",
    "    return allweights\n",
    "\n",
    "Fdict={'identity':identity,\n",
    "      'relu':relu,\n",
    "      'sigmoid':sigmoid,\n",
    "      'softmax':softmax,}\n",
    "\n",
    "DFdict={'identity':identity,\n",
    "      'relu':Drelu,\n",
    "      'sigmoid':Dsigmoid,\n",
    "      'softmax':Dsoftmax,}"
   ]
  },
  {
   "cell_type": "code",
   "execution_count": 10,
   "metadata": {},
   "outputs": [],
   "source": [
    "NX, DX = rankX.shape\n",
    "NY, DY = rankY.shape\n",
    "\n",
    "arch = np.array([['identity', DX],\n",
    "                 ['sigmoid', 4],\n",
    "                 ['sigmoid', 2],\n",
    "                 ['sigmoid', 3],\n",
    "                 ['softmax', DY]])\n",
    "\n",
    "Nnodes = np.array(arch[:,1]).astype(int)\n",
    "functions = np.array([ Fdict.get(item,item) for item in arch[1:,0] ])\n",
    "Dfunctions = np.array([ DFdict.get(item,item) for item in arch[1:,0] ])"
   ]
  },
  {
   "cell_type": "code",
   "execution_count": 11,
   "metadata": {
    "scrolled": false
   },
   "outputs": [],
   "source": [
    "def nodeinputs(functions, weights, entryX, entryY):\n",
    "    inlayers = []\n",
    "    inlayer = entryX\n",
    "    \n",
    "    for i in range(len(functions)):\n",
    "        inlayer = np.dot(weights[i], np.append(inlayer, 1))\n",
    "        inlayers.append(inlayer)\n",
    "        inlayer = functions[i]( inlayer )\n",
    "    return inlayers\n",
    "\n",
    "def nodeoutputs(functions, inputs, entryX, entryY):\n",
    "    outlayers = []\n",
    "    outlayers.append(entryX)\n",
    "    \n",
    "    for i in range(len(functions)):\n",
    "        outlayers.append(functions[i]( inputs[i] ))\n",
    "    return outlayers\n",
    "\n",
    "def loss(outputs, entryY):\n",
    "    output = outputs[len(outputs) - 1]\n",
    "    return np.array(-np.dot(entryY, np.log(output)))\n",
    "\n",
    "def Dloss(outputs, entryY):\n",
    "    output = outputs[len(outputs) - 1]\n",
    "    if len(entryY)==len(output) and len(entryY)==1:\n",
    "        return np.array( np.divide(entryY[0] - output[0], output[0]*(1 - output[0])) )\n",
    "        \n",
    "    elif len(entryY)==len(output) and len(entryY)>1:\n",
    "        return np.array( -np.divide(entryY, output) )\n",
    "    \n",
    "    else:\n",
    "        print('something wrong')\n",
    "        return 0"
   ]
  },
  {
   "cell_type": "code",
   "execution_count": 13,
   "metadata": {},
   "outputs": [],
   "source": [
    "def lossgradient(Dfunctions, weights, inputs, outputs, entryY):\n",
    "    gradients = []\n",
    "    initgrad = Dloss(outputs, entryY)\n",
    "    \n",
    "    if len(initgrad > 1):\n",
    "        derivative = np.sum( initgrad*Dsoftmax( inputs[len(inputs) - 1] ), axis=0)\n",
    "    elif len(initgrad == 1):\n",
    "        derivative = np.sum( initgrad*Dsigmoid( inputs[len(inputs) - 1] ), axis=0)\n",
    "    else:\n",
    "        print('non-standard output length')\n",
    "    \n",
    "    for igrad in reversed(range(len(Dfunctions) - 1)):\n",
    "        gradients.append(np.outer( derivative, np.append(outputs[igrad+1],0) ))\n",
    "        derivative = derivative.reshape(len(derivative),1)\n",
    "        derivative = derivative*weights[igrad + 1]*np.append( Dfunctions[igrad](inputs[igrad]), 0)\n",
    "        derivative = np.sum(derivative, axis=0)\n",
    "        derivative = derivative[:len(derivative)-1]\n",
    "    derivative = derivative.reshape(len(derivative),1)    \n",
    "    derivative = derivative*weights[0]\n",
    "    derivative = np.sum(derivative, axis=0)\n",
    "    gradients.append(np.outer( derivative, np.append(outputs[0],0) ))\n",
    "    \n",
    "    return list(reversed(gradients))\n",
    "\n",
    "learnrate = 0.01\n",
    "allweights = initialize_weights(Nnodes)\n",
    "\n",
    "test_weights = initialize_weights(Nnodes)\n",
    "test_nodeinputs = nodeinputs(functions, allweights, rankX[0], rankY[0]);\n",
    "test_nodeoutputs = nodeoutputs(functions, test_nodeinputs, rankX[0], rankY[0]);\n",
    "\n",
    "#loss(test_nodeoutputs, rankY[0])\n",
    "#Dloss(test_nodeoutputs, rankY[0])\n",
    "#lossgradient(Dfunctions, test_weights, test_nodeinputs, test_nodeoutputs, rankY[0])"
   ]
  },
  {
   "cell_type": "markdown",
   "metadata": {},
   "source": [
    "## The program below runs away because it figures out it can keep reducing loss by increasing weights"
   ]
  },
  {
   "cell_type": "code",
   "execution_count": 14,
   "metadata": {},
   "outputs": [
    {
     "name": "stdout",
     "output_type": "stream",
     "text": [
      "1.9908366621141054\n",
      "1.8436005904445294\n",
      "1.7038616543995428\n",
      "1.5722723526608147\n",
      "1.449258271538126\n"
     ]
    }
   ],
   "source": [
    "learnrate = 0.01\n",
    "allweights = initialize_weights(Nnodes)\n",
    "\n",
    "for i in range(50):\n",
    "    allinputs = nodeinputs(functions, allweights, rankX[0], rankY[0])\n",
    "    alloutputs = nodeoutputs(functions, allinputs, rankX[0], rankY[0])\n",
    "    \n",
    "    listoutputs = nodeoutputs(functions, allinputs, rankX[0], rankY[0])\n",
    "    \n",
    "    gradstep = lossgradient(Dfunctions, allweights, allinputs, alloutputs, rankY[0])\n",
    "\n",
    "    allweights = [np.add(allweights[iwgt], learnrate*gradstep[iwgt]) for iwgt in range(len(allweights))]\n",
    "\n",
    "    if i%10==0:\n",
    "        print(loss(alloutputs, rankY[0]))"
   ]
  },
  {
   "cell_type": "code",
   "execution_count": 21,
   "metadata": {
    "scrolled": true
   },
   "outputs": [
    {
     "name": "stdout",
     "output_type": "stream",
     "text": [
      "Epoch: 0\n",
      "Train loss:  0.2775934651243164\n",
      "=========\n",
      "Epoch: 100\n",
      "Train loss:  0.2144095431367119\n",
      "=========\n",
      "Epoch: 200\n",
      "Train loss:  0.2154547009201849   WARNING - Loss Increasing\n",
      "=========\n",
      "Epoch: 300\n",
      "Train loss:  0.21577870630097568   WARNING - Loss Increasing\n",
      "=========\n",
      "Epoch: 400\n",
      "Train loss:  0.21571925703978923\n",
      "=========\n",
      "Epoch: 500\n",
      "Train loss:  0.21558234589601522\n",
      "=========\n",
      "Epoch: 600\n",
      "Train loss:  0.21543682330828717\n",
      "=========\n",
      "Epoch: 700\n",
      "Train loss:  0.21529719523391916\n",
      "=========\n",
      "Epoch: 800\n",
      "Train loss:  0.21516695096571253\n",
      "=========\n",
      "Epoch: 900\n",
      "Train loss:  0.21504741880729447\n",
      "=========\n",
      "Finished training!\n"
     ]
    }
   ],
   "source": [
    "# Neural Network hadmitYperparameters\n",
    "epochs = 1000\n",
    "learnrate = 0.5\n",
    "\n",
    "# Training function\n",
    "def train_nn(features, targets, epochs, learnrate):\n",
    "    \n",
    "    # Use to same seed to make debugging easier\n",
    "    np.random.seed(42)\n",
    "\n",
    "    n_records, n_features = features.shape\n",
    "    last_loss = None\n",
    "\n",
    "    # Initialize weights\n",
    "    weights = np.random.normal(scale=1 / n_features**.5, size=n_features)\n",
    "\n",
    "    for e in range(epochs):\n",
    "        del_w = np.zeros(weights.shape)\n",
    "        for dataX, dataY in zip(features, targets):\n",
    "            # Loop through all records, admitX is the input, admitY is the target\n",
    "\n",
    "            # Activation of the output unit\n",
    "            #   Notice we multipladmitY the inputs and the weights here \n",
    "            #   rather than storing h as a separate variable \n",
    "            output = sigmoid(np.dot(dataX, weights))\n",
    "\n",
    "            # The error, the target minus the network output\n",
    "            error = error_formula(dataY, output)\n",
    "\n",
    "            # The error term\n",
    "            error_term = error_term_formula(dataX, dataY, output)\n",
    "\n",
    "            # The gradient descent step, the error times the gradient times the inputs\n",
    "            del_w += error_term * dataX\n",
    "\n",
    "        # Update the weights here. The learning rate times the \n",
    "        # change in weights, divided by the number of records to average\n",
    "        weights += learnrate * del_w / n_records\n",
    "\n",
    "        # Printing out the mean square error on the training set\n",
    "        if e % (epochs / 10) == 0:\n",
    "            out = sigmoid(np.dot(features, weights))\n",
    "            loss = np.mean((out - targets) ** 2)\n",
    "            print(\"Epoch:\", e)\n",
    "            if last_loss and last_loss < loss:\n",
    "                print(\"Train loss: \", loss, \"  WARNING - Loss Increasing\")\n",
    "            else:\n",
    "                print(\"Train loss: \", loss)\n",
    "            last_loss = loss\n",
    "            print(\"=========\")\n",
    "    print(\"Finished training!\")\n",
    "    return weights\n",
    "    \n",
    "weights = train_nn(admitX, admitY, epochs, learnrate)"
   ]
  },
  {
   "cell_type": "markdown",
   "metadata": {},
   "source": [
    "## Calculating the Accuracy on the Test Data"
   ]
  },
  {
   "cell_type": "code",
   "execution_count": 22,
   "metadata": {},
   "outputs": [
    {
     "name": "stdout",
     "output_type": "stream",
     "text": [
      "Prediction accuracy: 0.625\n"
     ]
    }
   ],
   "source": [
    "# Calculate accuracy on test data\n",
    "test_out = sigmoid(np.dot(admitX_test, weights))\n",
    "predictions = test_out > 0.5\n",
    "accuracy = np.mean(predictions == admitY_test)\n",
    "print(\"Prediction accuracy: {:.3f}\".format(accuracy))"
   ]
  },
  {
   "cell_type": "code",
   "execution_count": null,
   "metadata": {},
   "outputs": [],
   "source": []
  }
 ],
 "metadata": {
  "kernelspec": {
   "display_name": "Python 3",
   "language": "python",
   "name": "python3"
  },
  "language_info": {
   "codemirror_mode": {
    "name": "ipython",
    "version": 3
   },
   "file_extension": ".py",
   "mimetype": "text/x-python",
   "name": "python",
   "nbconvert_exporter": "python",
   "pygments_lexer": "ipython3",
   "version": "3.6.7"
  }
 },
 "nbformat": 4,
 "nbformat_minor": 2
}
